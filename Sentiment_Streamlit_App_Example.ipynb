{
  "nbformat": 4,
  "nbformat_minor": 0,
  "metadata": {
    "colab": {
      "name": "Sentiment Streamlit App Example.ipynb",
      "provenance": [],
      "mount_file_id": "1Bnbq0gS7TpzEnHOpM8wIddcgyruo3dOg",
      "authorship_tag": "ABX9TyOXW8/Q2uEK97992j/J0Vjr",
      "include_colab_link": true
    },
    "kernelspec": {
      "name": "python3",
      "display_name": "Python 3"
    },
    "language_info": {
      "name": "python"
    },
    "accelerator": "GPU"
  },
  "cells": [
    {
      "cell_type": "markdown",
      "metadata": {
        "id": "view-in-github",
        "colab_type": "text"
      },
      "source": [
        "<a href=\"https://colab.research.google.com/github/Raghvender1205/SentimentAnalysis_MajorProject/blob/master/Sentiment_Streamlit_App_Example.ipynb\" target=\"_parent\"><img src=\"https://colab.research.google.com/assets/colab-badge.svg\" alt=\"Open In Colab\"/></a>"
      ]
    },
    {
      "cell_type": "code",
      "metadata": {
        "colab": {
          "base_uri": "https://localhost:8080/"
        },
        "id": "d2Za8mqeuLWB",
        "outputId": "584824ee-626d-484b-e30e-4c2b3e989183"
      },
      "source": [
        "import numpy as np \n",
        "import pandas as pd\n",
        "\n",
        "from tensorflow.keras.preprocessing.text import Tokenizer\n",
        "from tensorflow.keras.preprocessing.sequence import pad_sequences\n",
        "from tensorflow.keras.models import Sequential, load_model\n",
        "from tensorflow.keras.layers import Dense, Embedding, LSTM, Bidirectional, Flatten, Dropout\n",
        "from tensorflow.keras.utils import to_categorical\n",
        "\n",
        "from sklearn.model_selection import train_test_split\n",
        "import re"
      ],
      "execution_count": null,
      "outputs": [
        {
          "output_type": "stream",
          "text": [
            "2021-06-30 12:14:28.934218: I tensorflow/stream_executor/platform/default/dso_loader.cc:53] Successfully opened dynamic library libcudart.so.11.0\n"
          ],
          "name": "stderr"
        }
      ]
    },
    {
      "cell_type": "code",
      "metadata": {
        "colab": {
          "base_uri": "https://localhost:8080/",
          "height": 357
        },
        "id": "idMyu-Otv5DX",
        "outputId": "c329d9b3-a7d3-4f2e-fdbb-31a341c900ae"
      },
      "source": [
        "def remove_special_char(text):\n",
        "    for remove in map(lambda r: re.compile(re.escape(r)), [\",\", \":\",\n",
        "    \"\\\"\", \"=\", \"&\", \"%\", \";\", \"$\",\n",
        "    \"@\", \"%\", \"^\", \"(\", \")\", \"{\", \"}\",\n",
        "    \"[\", \"]\", \"|\", \"/\", \"\\\\\", \">\", \"<\", \"-\", \n",
        "    \"!\", \"?\", \".\", \"`\",\n",
        "    \"-\", \"- -\", \"#\"]):\n",
        "        text.replace(remove, \"\", inplace=True)\n",
        "        return text\n",
        "    \n",
        "def remove_tags(text):\n",
        "    return re.compile(r'<[^>]+>').sub(\" \", text)\n",
        "def remove_num(text):\n",
        "    return ''.join(re.sub(r\"([0–9]+)\",\"\", text))\n",
        "    \n",
        "    \n",
        "data = pd.read_csv('/content/drive/MyDrive/SmartKnower/MajorProject/IMDB Dataset.csv')\n",
        "data.review = data.review.apply(lambda x: remove_tags(x))\n",
        "data.review = data.review.apply(lambda x : remove_num(x))\n",
        "remove_special_char(data.review)\n",
        "data.head(10)"
      ],
      "execution_count": null,
      "outputs": [
        {
          "output_type": "execute_result",
          "data": {
            "text/html": [
              "<div>\n",
              "<style scoped>\n",
              "    .dataframe tbody tr th:only-of-type {\n",
              "        vertical-align: middle;\n",
              "    }\n",
              "\n",
              "    .dataframe tbody tr th {\n",
              "        vertical-align: top;\n",
              "    }\n",
              "\n",
              "    .dataframe thead th {\n",
              "        text-align: right;\n",
              "    }\n",
              "</style>\n",
              "<table border=\"1\" class=\"dataframe\">\n",
              "  <thead>\n",
              "    <tr style=\"text-align: right;\">\n",
              "      <th></th>\n",
              "      <th>review</th>\n",
              "      <th>sentiment</th>\n",
              "    </tr>\n",
              "  </thead>\n",
              "  <tbody>\n",
              "    <tr>\n",
              "      <th>0</th>\n",
              "      <td>One of the other reviewers has mentioned that ...</td>\n",
              "      <td>positive</td>\n",
              "    </tr>\n",
              "    <tr>\n",
              "      <th>1</th>\n",
              "      <td>A wonderful little production.   The filming t...</td>\n",
              "      <td>positive</td>\n",
              "    </tr>\n",
              "    <tr>\n",
              "      <th>2</th>\n",
              "      <td>I thought this was a wonderful way to spend ti...</td>\n",
              "      <td>positive</td>\n",
              "    </tr>\n",
              "    <tr>\n",
              "      <th>3</th>\n",
              "      <td>Basically there's a family where a little boy ...</td>\n",
              "      <td>negative</td>\n",
              "    </tr>\n",
              "    <tr>\n",
              "      <th>4</th>\n",
              "      <td>Petter Mattei's \"Love in the Time of Money\" is...</td>\n",
              "      <td>positive</td>\n",
              "    </tr>\n",
              "    <tr>\n",
              "      <th>5</th>\n",
              "      <td>Probably my all-time favorite movie a story of...</td>\n",
              "      <td>positive</td>\n",
              "    </tr>\n",
              "    <tr>\n",
              "      <th>6</th>\n",
              "      <td>I sure would like to see a resurrection of a u...</td>\n",
              "      <td>positive</td>\n",
              "    </tr>\n",
              "    <tr>\n",
              "      <th>7</th>\n",
              "      <td>This show was an amazing fresh &amp; innovative id...</td>\n",
              "      <td>negative</td>\n",
              "    </tr>\n",
              "    <tr>\n",
              "      <th>8</th>\n",
              "      <td>Encouraged by the positive comments about this...</td>\n",
              "      <td>negative</td>\n",
              "    </tr>\n",
              "    <tr>\n",
              "      <th>9</th>\n",
              "      <td>If you like original gut wrenching laughter yo...</td>\n",
              "      <td>positive</td>\n",
              "    </tr>\n",
              "  </tbody>\n",
              "</table>\n",
              "</div>"
            ],
            "text/plain": [
              "                                              review sentiment\n",
              "0  One of the other reviewers has mentioned that ...  positive\n",
              "1  A wonderful little production.   The filming t...  positive\n",
              "2  I thought this was a wonderful way to spend ti...  positive\n",
              "3  Basically there's a family where a little boy ...  negative\n",
              "4  Petter Mattei's \"Love in the Time of Money\" is...  positive\n",
              "5  Probably my all-time favorite movie a story of...  positive\n",
              "6  I sure would like to see a resurrection of a u...  positive\n",
              "7  This show was an amazing fresh & innovative id...  negative\n",
              "8  Encouraged by the positive comments about this...  negative\n",
              "9  If you like original gut wrenching laughter yo...  positive"
            ]
          },
          "metadata": {
            "tags": []
          },
          "execution_count": 3
        }
      ]
    },
    {
      "cell_type": "markdown",
      "metadata": {
        "id": "fuPIG8-TwOM2"
      },
      "source": [
        "### Word Embeddings"
      ]
    },
    {
      "cell_type": "code",
      "metadata": {
        "id": "43kot4_ZwE3K"
      },
      "source": [
        "tokenizer = Tokenizer(num_words=5000, filters='!\"#$%&()*+,-./:;<=>?@[\\\\]^_`{|}~\\t\\n', \n",
        "                      lower=True, split=\" \")\n",
        "\n",
        "tokenizer.fit_on_texts(data['review'])\n",
        "X = tokenizer.texts_to_sequences(data['review'])\n",
        "X = pad_sequences(X, maxlen=500)\n",
        "Y = data['sentiment']\n",
        "\n",
        "vocab_size = len(tokenizer.word_index)\n",
        "\n",
        "# We can create Train and Test Set\n",
        "X_train, X_test, Y_train, Y_test = train_test_split(X, Y, test_size=0.3, random_state = 24)"
      ],
      "execution_count": null,
      "outputs": []
    },
    {
      "cell_type": "code",
      "metadata": {
        "id": "hbPvFKXDwSjw"
      },
      "source": [
        "# Store the tokenizer in a file to use later in the web app\n",
        "import pickle\n",
        "\n",
        "with open('tokenizer.pickle', 'wb') as f:\n",
        "    pickle.dump(tokenizer, f, protocol=pickle.HIGHEST_PROTOCOL)"
      ],
      "execution_count": null,
      "outputs": []
    },
    {
      "cell_type": "code",
      "metadata": {
        "id": "Ytp7Dbk3xAKB"
      },
      "source": [
        "# Encode Labels using LabelEncoder\n",
        "from sklearn.preprocessing import LabelEncoder\n",
        "\n",
        "def prepare_targets(y_train, y_test):\n",
        "    le = LabelEncoder()\n",
        "    le.fit(y_train)\n",
        "    y_train_enc = le.transform(y_train)\n",
        "    y_test_enc = le.transform(y_test)\n",
        "    \n",
        "    return y_train_enc, y_test_enc\n",
        "\n",
        "y_train, y_test = prepare_targets(Y_train, Y_test) "
      ],
      "execution_count": null,
      "outputs": []
    },
    {
      "cell_type": "code",
      "metadata": {
        "colab": {
          "base_uri": "https://localhost:8080/"
        },
        "id": "RfEf2Q8FxBpy",
        "outputId": "c5b05045-d847-450e-d046-e95e5d3340e1"
      },
      "source": [
        "model = Sequential([\n",
        "    Embedding(vocab_size, 50, input_length=500),\n",
        "    Bidirectional(LSTM(128)),\n",
        "    Dropout(0.5),\n",
        "    Dense(1, activation='sigmoid')\n",
        "])\n",
        "\n",
        "model.compile(optimizer='adam', loss='binary_crossentropy', metrics=['accuracy'])\n",
        "model.summary()"
      ],
      "execution_count": null,
      "outputs": [
        {
          "output_type": "stream",
          "text": [
            "Model: \"sequential\"\n",
            "_________________________________________________________________\n",
            "Layer (type)                 Output Shape              Param #   \n",
            "=================================================================\n",
            "embedding (Embedding)        (None, 500, 50)           6470350   \n",
            "_________________________________________________________________\n",
            "bidirectional (Bidirectional (None, 256)               183296    \n",
            "_________________________________________________________________\n",
            "dropout (Dropout)            (None, 256)               0         \n",
            "_________________________________________________________________\n",
            "dense (Dense)                (None, 1)                 257       \n",
            "=================================================================\n",
            "Total params: 6,653,903\n",
            "Trainable params: 6,653,903\n",
            "Non-trainable params: 0\n",
            "_________________________________________________________________\n"
          ],
          "name": "stdout"
        }
      ]
    },
    {
      "cell_type": "markdown",
      "metadata": {
        "id": "zEvBfr7-xG4n"
      },
      "source": [
        "### Train"
      ]
    },
    {
      "cell_type": "code",
      "metadata": {
        "colab": {
          "base_uri": "https://localhost:8080/"
        },
        "id": "pfpSg1VaxDmj",
        "outputId": "ad9a2704-b618-4608-f3fb-870473249647"
      },
      "source": [
        "# Train\n",
        "from tensorflow.keras.callbacks import EarlyStopping\n",
        "es = EarlyStopping(monitor='val_loss', mode='min', verbose=1, patience=5)\n",
        "\n",
        "history = model.fit(X_train, y_train,\n",
        "                   batch_size=128, epochs=20, validation_data=[X_test, y_test],\n",
        "                   callbacks=[es])\n",
        "\n",
        "model.save('movie_sentiment.h5')"
      ],
      "execution_count": null,
      "outputs": [
        {
          "output_type": "stream",
          "text": [
            "Epoch 1/20\n",
            "274/274 [==============================] - 43s 124ms/step - loss: 0.4697 - accuracy: 0.7704 - val_loss: 0.0000e+00 - val_accuracy: 0.0000e+00\n",
            "Epoch 2/20\n",
            "274/274 [==============================] - 33s 121ms/step - loss: 0.2834 - accuracy: 0.8879 - val_loss: 0.0000e+00 - val_accuracy: 0.0000e+00\n",
            "Epoch 3/20\n",
            "274/274 [==============================] - 33s 121ms/step - loss: 0.2325 - accuracy: 0.9107 - val_loss: 0.0000e+00 - val_accuracy: 0.0000e+00\n",
            "Epoch 4/20\n",
            "274/274 [==============================] - 33s 122ms/step - loss: 0.2290 - accuracy: 0.9124 - val_loss: 0.0000e+00 - val_accuracy: 0.0000e+00\n",
            "Epoch 5/20\n",
            "274/274 [==============================] - 33s 121ms/step - loss: 0.1922 - accuracy: 0.9268 - val_loss: 0.0000e+00 - val_accuracy: 0.0000e+00\n",
            "Epoch 6/20\n",
            "274/274 [==============================] - 33s 121ms/step - loss: 0.2020 - accuracy: 0.9213 - val_loss: 0.0000e+00 - val_accuracy: 0.0000e+00\n",
            "Epoch 00006: early stopping\n"
          ],
          "name": "stdout"
        }
      ]
    },
    {
      "cell_type": "code",
      "metadata": {
        "colab": {
          "base_uri": "https://localhost:8080/"
        },
        "id": "5FyxJpKNxIZ-",
        "outputId": "8e512e34-40e7-4686-a8ad-edf3d9bffce6"
      },
      "source": [
        "# Test your own reviews\n",
        "\n",
        "string11 = '''Between the Lovecraftian overtones and Liberato’s performance, \n",
        "The Beach House offers up beautifully shot terror and will make you think before opening your door.'''\n",
        "\n",
        "x_1 = tokenizer.texts_to_sequences([string11])\n",
        "x_1 = pad_sequences(x_1, maxlen=500)\n",
        "model.predict(x_1)"
      ],
      "execution_count": null,
      "outputs": [
        {
          "output_type": "execute_result",
          "data": {
            "text/plain": [
              "array([[0.9251882]], dtype=float32)"
            ]
          },
          "metadata": {
            "tags": []
          },
          "execution_count": 8
        }
      ]
    },
    {
      "cell_type": "markdown",
      "metadata": {
        "id": "1mFV7eLS0lVV"
      },
      "source": [
        "## Streamlit Sentiment App\n",
        "\n",
        "Install Streamlit using\n",
        "```python\n",
        "pip install streamlit\n",
        "```"
      ]
    },
    {
      "cell_type": "code",
      "metadata": {
        "id": "jx6QDfG008eM"
      },
      "source": [
        "import streamlit as st"
      ],
      "execution_count": null,
      "outputs": []
    },
    {
      "cell_type": "code",
      "metadata": {
        "id": "TIxdczTc0_mc"
      },
      "source": [
        ""
      ],
      "execution_count": null,
      "outputs": []
    }
  ]
}